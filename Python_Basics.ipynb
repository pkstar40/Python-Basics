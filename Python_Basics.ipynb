{
  "nbformat": 4,
  "nbformat_minor": 0,
  "metadata": {
    "colab": {
      "provenance": []
    },
    "kernelspec": {
      "name": "python3",
      "display_name": "Python 3"
    },
    "language_info": {
      "name": "python"
    }
  },
  "cells": [
    {
      "cell_type": "markdown",
      "source": [
        "#Theory"
      ],
      "metadata": {
        "id": "zRZWC1OMC2Q7"
      }
    },
    {
      "cell_type": "markdown",
      "source": [
        "1. What is Python, and why is it popular ?\n",
        "  - Python is a high-level, easy-to-learn programming language, created by Guido van Rossum and released in 1991. It's popular because of its simple syntax, versatility, and large standard library, making it ideal for web development, data analysis, machine learning, automation, and more.\n",
        "\n",
        "Why is Python popular?\n",
        "\n",
        "Easy to Learn: Simple, readable syntax.\n",
        "\n",
        "Versatile: Used for various applications (web, data science, AI).\n",
        "\n",
        "Large Libraries: Many built-in and third-party tools for tasks.\n",
        "\n",
        "Strong Community: Active support and resources.\n",
        "\n",
        "Cross-platform: Works on Windows, Mac, and Linux.\n",
        "\n",
        "Open-source: Free to use and modify.\n",
        "\n",
        "Python is a go-to language for both beginners and professionals, offering flexibility and power for a wide range of projects.\n",
        "\n",
        "2. What is an interpreter in Python ?\n",
        "\n",
        "   -An interpreter in Python is a program that reads and executes Python code line by line, translating it into machine code that the computer can understand and execute. Unlike a compiler, which translates the entire program at once before running it, an interpreter processes the code in real-time, executing it as it goes.\n",
        "\n",
        "Key points about the Python interpreter:\n",
        "\n",
        "Line-by-line Execution: The interpreter reads each line of Python code, translates it, and runs it immediately.\n",
        "\n",
        "No Compilation Step: Python code does not need to be compiled beforehand into machine code; it's executed directly by the interpreter.\n",
        "\n",
        "Cross-platform: The same Python code can run on any system that has the Python interpreter installed (Windows, macOS, Linux).\n",
        "\n",
        "Python uses the CPython interpreter by default, which is the standard implementation of the Python language.\n",
        "\n",
        "3. What are pre-defined keywords in Python ?\n",
        "\n",
        "   -Pre-defined keywords in Python are reserved words that have a specific meaning and function within the Python language. These keywords cannot be used as identifiers (such as variable names, function names, etc.) because they are part of the syntax and structure of the language.\n",
        "4. Can keywords be used as variable names ?\n",
        "\n",
        "  -No, keywords cannot be used as variable names in Python.\n",
        "\n",
        "Keywords are reserved words that have a specific meaning in the Python language and are part of the language's syntax. They are used to define the structure and behavior of the program, so trying to use them as variable names would cause a syntax error.\n",
        "5. What is mutability in Python ?\n",
        "   \n",
        "   - Mutability in Python refers to whether or not an object can be changed after it is created.\n",
        "\n",
        "Mutable objects: These are objects whose state or content can be modified after they are created. For example, lists, dictionaries, and sets are mutable.\n",
        "\n",
        "Example (mutable object):\n",
        "\n",
        "\n",
        "\n",
        "\n",
        "\n"
      ],
      "metadata": {
        "id": "0WqQsrq1DX3o"
      }
    },
    {
      "cell_type": "code",
      "execution_count": 1,
      "metadata": {
        "colab": {
          "base_uri": "https://localhost:8080/"
        },
        "id": "ORSg75tVClHb",
        "outputId": "012c0535-3b6e-40e0-ac08-0a574a178970"
      },
      "outputs": [
        {
          "output_type": "stream",
          "name": "stdout",
          "text": [
            "[10, 2, 3]\n"
          ]
        }
      ],
      "source": [
        "my_list = [1, 2, 3]\n",
        "my_list[0] = 10  # Modify the first element\n",
        "print(my_list)  # Output: [10, 2, 3]\n"
      ]
    },
    {
      "cell_type": "markdown",
      "source": [
        "Immutable objects: These are objects whose state or content cannot be changed after they are created. Strings, tuples, and integers are examples of immutable objects.\n",
        "\n",
        "Example (immutable object):"
      ],
      "metadata": {
        "id": "lkKu1GlbHnON"
      }
    },
    {
      "cell_type": "code",
      "source": [
        "my_string = \"Hello\"\n",
        "my_string[0] = \"h\"  # This will raise an error: 'str' object does not support item assignment\n"
      ],
      "metadata": {
        "colab": {
          "base_uri": "https://localhost:8080/",
          "height": 162
        },
        "id": "dRnQBkgXHkD9",
        "outputId": "c4bbdffe-a8f6-4ea7-fabe-839181cf8ffa"
      },
      "execution_count": 2,
      "outputs": [
        {
          "output_type": "error",
          "ename": "TypeError",
          "evalue": "'str' object does not support item assignment",
          "traceback": [
            "\u001b[0;31m---------------------------------------------------------------------------\u001b[0m",
            "\u001b[0;31mTypeError\u001b[0m                                 Traceback (most recent call last)",
            "\u001b[0;32m<ipython-input-2-b10f1cfb0ab1>\u001b[0m in \u001b[0;36m<cell line: 2>\u001b[0;34m()\u001b[0m\n\u001b[1;32m      1\u001b[0m \u001b[0mmy_string\u001b[0m \u001b[0;34m=\u001b[0m \u001b[0;34m\"Hello\"\u001b[0m\u001b[0;34m\u001b[0m\u001b[0;34m\u001b[0m\u001b[0m\n\u001b[0;32m----> 2\u001b[0;31m \u001b[0mmy_string\u001b[0m\u001b[0;34m[\u001b[0m\u001b[0;36m0\u001b[0m\u001b[0;34m]\u001b[0m \u001b[0;34m=\u001b[0m \u001b[0;34m\"h\"\u001b[0m  \u001b[0;31m# This will raise an error: 'str' object does not support item assignment\u001b[0m\u001b[0;34m\u001b[0m\u001b[0;34m\u001b[0m\u001b[0m\n\u001b[0m",
            "\u001b[0;31mTypeError\u001b[0m: 'str' object does not support item assignment"
          ]
        }
      ]
    },
    {
      "cell_type": "markdown",
      "source": [
        "Key points:\n",
        "\n",
        "Mutable: Can be changed after creation (e.g., lists, dictionaries).\n",
        "\n",
        "Immutable: Cannot be changed after creation (e.g., strings, tuples, numbers).\n",
        "\n",
        "This difference affects how objects are handled in memory and how they behave when passed to functions or assigned to new variables.\n",
        "\n",
        "\n",
        "\n"
      ],
      "metadata": {
        "id": "gXf4DH7cIKCN"
      }
    },
    {
      "cell_type": "markdown",
      "source": [
        "6. Why are lists mutable, but tuples are immutable ?\n",
        "   - The difference in mutability between lists and tuples in Python stems from their intended use and the design principles behind them.\n",
        "\n",
        "Lists (Mutable):\n",
        "\n",
        "Lists are designed to be mutable, meaning their contents can be changed after they are created.\n",
        "\n",
        "The mutability of lists allows them to be more flexible and suitable for scenarios where the collection of elements might need to change, like adding, removing, or updating items.\n",
        "\n",
        "Example of mutability in lists:\n"
      ],
      "metadata": {
        "id": "xaDdz152ITml"
      }
    },
    {
      "cell_type": "code",
      "source": [
        "my_list = [1, 2, 3]\n",
        "my_list.append(4)  # Adding an element\n",
        "my_list[0] = 10    # Modifying an element\n",
        "print(my_list)     # Output: [10, 2, 3, 4]\n"
      ],
      "metadata": {
        "colab": {
          "base_uri": "https://localhost:8080/"
        },
        "id": "aFZKeB1YH9E1",
        "outputId": "16487a0e-3cb2-4274-a7cb-3dc8076afd18"
      },
      "execution_count": 3,
      "outputs": [
        {
          "output_type": "stream",
          "name": "stdout",
          "text": [
            "[10, 2, 3, 4]\n"
          ]
        }
      ]
    },
    {
      "cell_type": "markdown",
      "source": [
        "Tuples (Immutable):\n",
        "\n",
        "Tuples are designed to be immutable, meaning their contents cannot be modified once they are created.\n",
        "\n",
        "The immutability of tuples makes them useful in scenarios where data should remain constant, like in function arguments, keys for dictionaries, or when you need to ensure data integrity.\n",
        "\n",
        "Example of immutability in tuples:\n"
      ],
      "metadata": {
        "id": "9pt09nYuJNdQ"
      }
    },
    {
      "cell_type": "code",
      "source": [
        "my_tuple = (1, 2, 3)\n",
        "my_tuple[0] = 10  # This will raise an error: 'tuple' object does not support item assignment\n"
      ],
      "metadata": {
        "colab": {
          "base_uri": "https://localhost:8080/",
          "height": 162
        },
        "id": "ajOZhwUVJL-N",
        "outputId": "57991a91-bf29-4a07-f072-1ecd72f8538b"
      },
      "execution_count": 4,
      "outputs": [
        {
          "output_type": "error",
          "ename": "TypeError",
          "evalue": "'tuple' object does not support item assignment",
          "traceback": [
            "\u001b[0;31m---------------------------------------------------------------------------\u001b[0m",
            "\u001b[0;31mTypeError\u001b[0m                                 Traceback (most recent call last)",
            "\u001b[0;32m<ipython-input-4-1625ceab235e>\u001b[0m in \u001b[0;36m<cell line: 2>\u001b[0;34m()\u001b[0m\n\u001b[1;32m      1\u001b[0m \u001b[0mmy_tuple\u001b[0m \u001b[0;34m=\u001b[0m \u001b[0;34m(\u001b[0m\u001b[0;36m1\u001b[0m\u001b[0;34m,\u001b[0m \u001b[0;36m2\u001b[0m\u001b[0;34m,\u001b[0m \u001b[0;36m3\u001b[0m\u001b[0;34m)\u001b[0m\u001b[0;34m\u001b[0m\u001b[0;34m\u001b[0m\u001b[0m\n\u001b[0;32m----> 2\u001b[0;31m \u001b[0mmy_tuple\u001b[0m\u001b[0;34m[\u001b[0m\u001b[0;36m0\u001b[0m\u001b[0;34m]\u001b[0m \u001b[0;34m=\u001b[0m \u001b[0;36m10\u001b[0m  \u001b[0;31m# This will raise an error: 'tuple' object does not support item assignment\u001b[0m\u001b[0;34m\u001b[0m\u001b[0;34m\u001b[0m\u001b[0m\n\u001b[0m",
            "\u001b[0;31mTypeError\u001b[0m: 'tuple' object does not support item assignment"
          ]
        }
      ]
    },
    {
      "cell_type": "markdown",
      "source": [
        "Why the difference?\n",
        "\n",
        "Performance: Immutable objects like tuples are generally faster than mutable ones (like lists) because their contents cannot change, making them more efficient for certain operations, like accessing elements or using them as dictionary keys.\n",
        "\n",
        "Use Cases: Lists are meant for collections where items can change, while tuples are ideal for fixed data that shouldn't be altered. This distinction helps developers choose the right data structure for their needs.\n",
        "\n",
        "Data Integrity: Tuples ensure that the data remains constant, which can be important in situations where the integrity of the data should be preserved.\n",
        "\n",
        "Summary:\n",
        "\n",
        "Lists are mutable because they are designed for flexibility and allow modifications.\n",
        "Tuples are immutable to guarantee data integrity and performance, and to make them usable in situations where changes to the data should be prevented (e.g., as dictionary keys).\n",
        "\n",
        "\n",
        "\n"
      ],
      "metadata": {
        "id": "r4MSd1xHJd9h"
      }
    },
    {
      "cell_type": "markdown",
      "source": [
        "7. What is the difference between “==” and “is” operators in Python ?\n",
        "\n",
        "   -1. == (Equality Operator):\n",
        "Purpose: Checks if the values of two objects are equal.\n",
        "\n",
        "Behavior: It compares the data or content of the objects, not their memory addresses.\n",
        "\n",
        "Use case: Used when you want to check if two objects have the same value.\n",
        "\n",
        "Example:"
      ],
      "metadata": {
        "id": "ejD1cOrcJuaP"
      }
    },
    {
      "cell_type": "code",
      "source": [
        "a = [1, 2, 3]\n",
        "b = [1, 2, 3]\n",
        "print(a == b)  # Output: True (they have the same values)\n"
      ],
      "metadata": {
        "colab": {
          "base_uri": "https://localhost:8080/"
        },
        "id": "E3lbbKx9JcHc",
        "outputId": "f084fe9e-b889-4902-bccd-7869d60ec480"
      },
      "execution_count": 5,
      "outputs": [
        {
          "output_type": "stream",
          "name": "stdout",
          "text": [
            "True\n"
          ]
        }
      ]
    },
    {
      "cell_type": "code",
      "source": [],
      "metadata": {
        "id": "RcGtQQO1KZzd"
      },
      "execution_count": null,
      "outputs": []
    },
    {
      "cell_type": "markdown",
      "source": [
        "In this example, a == b returns True because both lists contain the same values, even though they are two separate objects in memory.\n",
        "\n",
        "2. is (Identity Operator):\n",
        "\n",
        "Purpose: Checks if two variables refer to the same object in memory (i.e., if they have the same memory address).\n",
        "\n",
        "Behavior: It compares the identity of the objects, not their content.\n",
        "\n",
        "Use case: Used to check if two variables point to the exact same object, not just objects with the same value.\n",
        "\n",
        "Example:"
      ],
      "metadata": {
        "id": "iFYcNnSsKa24"
      }
    },
    {
      "cell_type": "code",
      "source": [
        "a = [1, 2, 3]\n",
        "b = [1, 2, 3]\n",
        "print(a is b)  # Output: False (they are different objects in memory)\n"
      ],
      "metadata": {
        "colab": {
          "base_uri": "https://localhost:8080/"
        },
        "id": "fVYFQckRKnvL",
        "outputId": "22bd3f61-b767-47b8-c371-41bd3b47b785"
      },
      "execution_count": 6,
      "outputs": [
        {
          "output_type": "stream",
          "name": "stdout",
          "text": [
            "False\n"
          ]
        }
      ]
    },
    {
      "cell_type": "markdown",
      "source": [
        "In this example, a is b returns False because a and b are two different objects, even though their contents are identical.\n",
        "\n",
        "Summary:\n",
        "\n",
        "**==** compares values (checks if two objects are equivalent).\n",
        "\n",
        "**is** compares identities (checks if two objects are the same object in memory).\n",
        "\n",
        "Special Case: **is** and Singleton Objects:\n",
        "\n",
        "For some objects like **None**, **is** can be used to check identity because there is only one instance of **None** in Python."
      ],
      "metadata": {
        "id": "hwR7ZCwIKsT2"
      }
    },
    {
      "cell_type": "code",
      "source": [
        "x = None\n",
        "y = None\n",
        "print(x is y)  # Output: True (both refer to the same singleton object)\n"
      ],
      "metadata": {
        "colab": {
          "base_uri": "https://localhost:8080/"
        },
        "id": "TtWUKsytKqP0",
        "outputId": "e3ae02da-5952-4f33-bf20-1d7988647a77"
      },
      "execution_count": 7,
      "outputs": [
        {
          "output_type": "stream",
          "name": "stdout",
          "text": [
            "True\n"
          ]
        }
      ]
    },
    {
      "cell_type": "markdown",
      "source": [
        " 8. What are logical operators in Python ?\n",
        "    - In Python, logical operators are used to combine conditional statements (expressions) and return a Boolean value (**True** or **False**). The main logical operators are:\n",
        "\n",
        "1. **and**:\n",
        "\n",
        "Purpose: Returns **True** if both conditions are **True**.\n",
        "\n",
        "Behavior: If either condition is **False**, the result is **False**.\n",
        "\n",
        "Example:"
      ],
      "metadata": {
        "id": "O8EeiwPSL7K6"
      }
    },
    {
      "cell_type": "code",
      "source": [
        "x = 5\n",
        "y = 10\n",
        "result = (x > 0) and (y > 0)  # True because both conditions are True\n",
        "print(result)  # Output: True\n"
      ],
      "metadata": {
        "colab": {
          "base_uri": "https://localhost:8080/"
        },
        "id": "I0J2MAR8LrtN",
        "outputId": "240c6c39-fb20-4360-be53-2d23173aa411"
      },
      "execution_count": 8,
      "outputs": [
        {
          "output_type": "stream",
          "name": "stdout",
          "text": [
            "True\n"
          ]
        }
      ]
    },
    {
      "cell_type": "markdown",
      "source": [
        "2. **or**:\n",
        "\n",
        "Purpose: Returns **True** if at least one of the conditions is **True**.\n",
        "\n",
        "Behavior: If both conditions are **False**, the result is **False**.\n",
        "\n",
        "Example:"
      ],
      "metadata": {
        "id": "3EiyAYXtNJ-o"
      }
    },
    {
      "cell_type": "code",
      "source": [
        "x = 5\n",
        "y = -10\n",
        "result = (x > 0) or (y > 0)  # True because the first condition is True\n",
        "print(result)  # Output: True\n"
      ],
      "metadata": {
        "colab": {
          "base_uri": "https://localhost:8080/"
        },
        "id": "FCPWAySFNIv1",
        "outputId": "bde926c8-b730-4e38-b8d3-733f4647bba9"
      },
      "execution_count": 9,
      "outputs": [
        {
          "output_type": "stream",
          "name": "stdout",
          "text": [
            "True\n"
          ]
        }
      ]
    },
    {
      "cell_type": "markdown",
      "source": [
        "3. **not**:\n",
        "\n",
        "Purpose: Reverses the Boolean value of the condition.\n",
        "\n",
        "Behavior: Returns **True** if the condition is **False**, and **False** if the condition is **True**.\n",
        "\n",
        "Example:\n"
      ],
      "metadata": {
        "id": "d9ViyrtNNuEq"
      }
    },
    {
      "cell_type": "code",
      "source": [
        "x = 5\n",
        "result = not (x > 0)  # False because the condition (x > 0) is True, and `not` reverses it\n",
        "print(result)  # Output: False\n"
      ],
      "metadata": {
        "colab": {
          "base_uri": "https://localhost:8080/"
        },
        "id": "wBPEiN4wNovN",
        "outputId": "fda5d5ad-8b6b-48ff-8c35-20cbd8a5918a"
      },
      "execution_count": 10,
      "outputs": [
        {
          "output_type": "stream",
          "name": "stdout",
          "text": [
            "False\n"
          ]
        }
      ]
    },
    {
      "cell_type": "markdown",
      "source": [
        "Summary of Logical Operators:\n",
        "\n",
        "**and**: Returns **True** if both conditions are **True**.\n",
        "\n",
        "**or**: Returns **True** if at least one condition is **True**.\n",
        "\n",
        "**not**: Reverses the truth value of a condition.\n",
        "\n",
        "These logical operators are commonly used in conditional statements like **if** and **while** to control the flow of the program based on multiple conditions.\n",
        "\n",
        "\n",
        "\n"
      ],
      "metadata": {
        "id": "__v7DlUdOARx"
      }
    },
    {
      "cell_type": "markdown",
      "source": [
        "9. What is type casting in Python ?\n",
        "\n",
        "   -Type casting in Python refers to converting one data type to another.\n",
        "\n",
        "1: Implicit Type Casting:\n",
        "\n",
        "Automatically done by Python when converting a smaller data type to a larger one (e.g., int to float).\n",
        "\n",
        "Example:\n",
        "\n"
      ],
      "metadata": {
        "id": "iBUN3hyoOnK1"
      }
    },
    {
      "cell_type": "code",
      "source": [
        "x = 5\n",
        "y = 2.5\n",
        "z = x + y  # Python converts x (int) to float\n",
        "print(z)  # Output: 7.5\n"
      ],
      "metadata": {
        "colab": {
          "base_uri": "https://localhost:8080/"
        },
        "id": "LKZscVJKN_GO",
        "outputId": "896e76b0-26da-4972-adbd-e2072a66d96e"
      },
      "execution_count": 11,
      "outputs": [
        {
          "output_type": "stream",
          "name": "stdout",
          "text": [
            "7.5\n"
          ]
        }
      ]
    },
    {
      "cell_type": "markdown",
      "source": [
        "2: Explicit Type Casting:\n",
        "\n",
        "Manually done by the programmer using functions like int(), float(), str().\n",
        "\n",
        "Examples:"
      ],
      "metadata": {
        "id": "dfKV8PNNPfM9"
      }
    },
    {
      "cell_type": "code",
      "source": [
        "x = 3.14\n",
        "y = int(x)  # Converts float to int\n",
        "print(y)  # Output: 3\n"
      ],
      "metadata": {
        "colab": {
          "base_uri": "https://localhost:8080/"
        },
        "id": "ZiaYZ4NjPd6O",
        "outputId": "ae659975-5e33-4ee2-b516-7e085c9111cc"
      },
      "execution_count": 12,
      "outputs": [
        {
          "output_type": "stream",
          "name": "stdout",
          "text": [
            "3\n"
          ]
        }
      ]
    },
    {
      "cell_type": "markdown",
      "source": [
        "Type casting helps in performing operations between different data types and ensures proper conversions."
      ],
      "metadata": {
        "id": "QvlbV9SzPw8_"
      }
    },
    {
      "cell_type": "markdown",
      "source": [
        "10. What is the difference between implicit and explicit type casting ?\n",
        "    - The difference between implicit and explicit type casting in Python is as follows:\n",
        "\n",
        "1: Implicit Type Casting (Automatic):\n",
        "\n",
        "Python automatically converts one data type to another when needed.\n",
        "\n",
        "Occurs when converting a smaller type to a larger type (e.g., int to float).\n",
        "\n",
        "No user intervention is required.\n",
        "\n",
        "Example:"
      ],
      "metadata": {
        "id": "NkDb9E59PyQT"
      }
    },
    {
      "cell_type": "code",
      "source": [
        "x = 5     # int\n",
        "y = 2.5   # float\n",
        "z = x + y  # x is automatically converted to float\n",
        "print(z)  # Output: 7.5\n"
      ],
      "metadata": {
        "colab": {
          "base_uri": "https://localhost:8080/"
        },
        "id": "Vfv0P9wdPtVt",
        "outputId": "7d76fac9-1e71-45da-85ae-5ebb0bed286f"
      },
      "execution_count": 13,
      "outputs": [
        {
          "output_type": "stream",
          "name": "stdout",
          "text": [
            "7.5\n"
          ]
        }
      ]
    },
    {
      "cell_type": "markdown",
      "source": [
        "2. Explicit Type Casting (Manual):\n",
        "\n",
        "The programmer manually converts one data type to another using functions like int(), float(), str(), etc.\n",
        "\n",
        "Used when the conversion may not be automatic or is needed for specific reasons.\n",
        "\n",
        "Example:"
      ],
      "metadata": {
        "id": "LIVt8EczRHoW"
      }
    },
    {
      "cell_type": "code",
      "source": [
        "x = 3.14\n",
        "y = int(x)  # Manual conversion of float to int\n",
        "print(y)    # Output: 3\n"
      ],
      "metadata": {
        "colab": {
          "base_uri": "https://localhost:8080/"
        },
        "id": "guhCr5Z7RCCf",
        "outputId": "c445a5cd-14fc-4b5c-8879-a7623cd49200"
      },
      "execution_count": 14,
      "outputs": [
        {
          "output_type": "stream",
          "name": "stdout",
          "text": [
            "3\n"
          ]
        }
      ]
    },
    {
      "cell_type": "markdown",
      "source": [
        "Summary:\n",
        "\n",
        "Implicit: Automatic conversion by Python (e.g., int to float).\n",
        "\n",
        "Explicit: Manual conversion by the programmer using functions (e.g., float() to int()).\n",
        "\n",
        "\n"
      ],
      "metadata": {
        "id": "G8uSpG4zROQ9"
      }
    },
    {
      "cell_type": "markdown",
      "source": [
        "11. What is the purpose of conditional statements in Python ?\n",
        "\n",
        "    -The purpose of conditional statements in Python is to allow the program to make decisions and execute specific blocks of code based on certain conditions.\n",
        "\n",
        "Key Points:\n",
        "\n",
        "Control flow: Conditional statements control the flow of execution in a program by checking whether a condition is True or False.\n",
        "\n",
        "Decision-making: They help the program choose between different paths or actions based on conditions.\n",
        "\n",
        "Common Conditional Statements:\n",
        "\n",
        "if statement: Executes a block of code if the condition is True."
      ],
      "metadata": {
        "id": "Rdh0wGbKRWdH"
      }
    },
    {
      "cell_type": "code",
      "source": [
        "if x > 0:\n",
        "    print(\"Positive number\")\n"
      ],
      "metadata": {
        "colab": {
          "base_uri": "https://localhost:8080/"
        },
        "id": "HaHvS0egRNBt",
        "outputId": "acd9e484-7f76-48b0-b1b1-ef28eaa335eb"
      },
      "execution_count": 15,
      "outputs": [
        {
          "output_type": "stream",
          "name": "stdout",
          "text": [
            "Positive number\n"
          ]
        }
      ]
    },
    {
      "cell_type": "markdown",
      "source": [
        "else statement: Executes a block of code if the condition is False (used with if).\n",
        "\n",
        "\n"
      ],
      "metadata": {
        "id": "PE5jQDjDSrZI"
      }
    },
    {
      "cell_type": "code",
      "source": [
        "if x > 0:\n",
        "    print(\"Positive number\")\n",
        "else:\n",
        "    print(\"Non-positive number\")\n"
      ],
      "metadata": {
        "colab": {
          "base_uri": "https://localhost:8080/"
        },
        "id": "tUxojFLhSlMu",
        "outputId": "ac43805e-6a50-4b38-dd28-5abb3941d392"
      },
      "execution_count": 16,
      "outputs": [
        {
          "output_type": "stream",
          "name": "stdout",
          "text": [
            "Positive number\n"
          ]
        }
      ]
    },
    {
      "cell_type": "markdown",
      "source": [
        "elif (else if) statement: Checks multiple conditions if the initial if is False.\n"
      ],
      "metadata": {
        "id": "VyY9djxDS3FE"
      }
    },
    {
      "cell_type": "code",
      "source": [
        "if x > 0:\n",
        "    print(\"Positive number\")\n",
        "elif x == 0:\n",
        "    print(\"Zero\")\n",
        "else:\n",
        "    print(\"Negative number\")\n"
      ],
      "metadata": {
        "colab": {
          "base_uri": "https://localhost:8080/"
        },
        "id": "x4HXtiBFSzNV",
        "outputId": "b1700e95-e779-4aec-9c99-0dd14c5ae797"
      },
      "execution_count": 17,
      "outputs": [
        {
          "output_type": "stream",
          "name": "stdout",
          "text": [
            "Positive number\n"
          ]
        }
      ]
    },
    {
      "cell_type": "markdown",
      "source": [
        "Purpose:\n",
        "\n",
        "Decision making: To execute code based on certain conditions.\n",
        "\n",
        "Control flow: To handle different outcomes based on the logic you define (e.g., checking user input, comparing values).\n",
        "\n",
        "Conditional statements are essential for creating dynamic, interactive programs that respond to different situations."
      ],
      "metadata": {
        "id": "3eFHv1HqTAL9"
      }
    },
    {
      "cell_type": "markdown",
      "source": [
        "12. How does the elif statement work ?\n",
        "\n",
        "    -The elif (short for \"else if\") statement in Python is used to check multiple conditions after an initial if statement. It allows you to test additional conditions if the previous conditions are False. It provides an alternative to using multiple if statements, making the code more efficient and readable.\n",
        "\n",
        "How it works:\n",
        "\n",
        "First, the if statement is checked. If its condition is True, the code block under if is executed, and the rest of the elif or else blocks are skipped.\n",
        "\n",
        "If the if condition is False, the program moves to the elif statement (if there is one), checking its condition. If the elif condition is True, its corresponding code block is executed.\n",
        "\n",
        "If none of the if or elif conditions are True, the else block (if present) will be executed.\n",
        "\n",
        "Example:\n"
      ],
      "metadata": {
        "id": "wDB68jGkTISg"
      }
    },
    {
      "cell_type": "code",
      "source": [
        "x = 10\n",
        "\n",
        "if x > 15:\n",
        "    print(\"Greater than 15\")\n",
        "elif x == 10:\n",
        "    print(\"Equal to 10\")\n",
        "elif x < 5:\n",
        "    print(\"Less than 5\")\n",
        "else:\n",
        "    print(\"Other case\")\n"
      ],
      "metadata": {
        "colab": {
          "base_uri": "https://localhost:8080/"
        },
        "id": "qeeBDYfGS7m-",
        "outputId": "26f2625a-7eac-4d9c-dd95-6c0bdbcd818b"
      },
      "execution_count": 21,
      "outputs": [
        {
          "output_type": "stream",
          "name": "stdout",
          "text": [
            "Equal to 10\n"
          ]
        }
      ]
    },
    {
      "cell_type": "markdown",
      "source": [
        "Explanation:\n",
        "\n",
        "The program first checks if x > 15, which is False.\n",
        "\n",
        "Then, it checks x == 10, which is True, so it executes the corresponding code and skips the rest.\n",
        "\n",
        "If none of the conditions were True, the else block would execute.\n",
        "\n",
        "Summary:\n",
        "\n",
        "elif allows testing additional conditions after the initial if.\n",
        "\n",
        "It is used when you have multiple possible conditions, and only the first True condition's code will be executed.\n"
      ],
      "metadata": {
        "id": "d-5XI7HMUwEx"
      }
    },
    {
      "cell_type": "markdown",
      "source": [
        "13. What is the difference between for and while loops ?\n",
        "\n",
        "    -The difference between for and while loops in Python lies in how they control iteration and their usage:\n",
        "\n",
        "1: for Loop:\n",
        "\n",
        "Purpose: Used for iterating over a sequence (e.g., list, tuple, string, range) a specific number of times.\n",
        "\n",
        "Usage: Ideal when the number of iterations is known beforehand or when iterating over a collection.\n",
        "\n",
        "Example:"
      ],
      "metadata": {
        "id": "TleILiYpVEy2"
      }
    },
    {
      "cell_type": "code",
      "source": [
        "for i in range(5):\n",
        "    print(i)\n"
      ],
      "metadata": {
        "colab": {
          "base_uri": "https://localhost:8080/"
        },
        "id": "96Koj_CyT7dG",
        "outputId": "ee3992a6-040d-40ce-8e62-ba714fa581fd"
      },
      "execution_count": 22,
      "outputs": [
        {
          "output_type": "stream",
          "name": "stdout",
          "text": [
            "0\n",
            "1\n",
            "2\n",
            "3\n",
            "4\n"
          ]
        }
      ]
    },
    {
      "cell_type": "markdown",
      "source": [
        "In this example, the loop iterates 5 times, printing numbers from 0 to 4.\n",
        "\n",
        "2. while Loop:\n",
        "\n",
        "Purpose: Used when the number of iterations is not known in advance, and you want to loop as long as a condition remains True.\n",
        "\n",
        "Usage: Ideal when the loop depends on a condition that is evaluated during each iteration.\n",
        "\n",
        "Example:"
      ],
      "metadata": {
        "id": "wWFsQg8EX7Sr"
      }
    },
    {
      "cell_type": "code",
      "source": [
        "i = 0\n",
        "while i < 5:\n",
        "    print(i)\n",
        "    i += 1\n"
      ],
      "metadata": {
        "colab": {
          "base_uri": "https://localhost:8080/"
        },
        "id": "u7I8CgSrWxO_",
        "outputId": "348208c7-9659-414c-9d49-0cb3b8d170c4"
      },
      "execution_count": 23,
      "outputs": [
        {
          "output_type": "stream",
          "name": "stdout",
          "text": [
            "0\n",
            "1\n",
            "2\n",
            "3\n",
            "4\n"
          ]
        }
      ]
    },
    {
      "cell_type": "markdown",
      "source": [
        "In this example, the loop runs as long as i is less than 5, incrementing i each time.\n",
        "\n",
        "Key Differences:\n",
        "\n",
        "for loop: Iterates over a known sequence or range, making it ideal for fixed iteration.\n",
        "\n",
        "while loop: Continues as long as a condition is True, used when the number of iterations is not known in advance."
      ],
      "metadata": {
        "id": "qegxIQ8MYVkZ"
      }
    },
    {
      "cell_type": "markdown",
      "source": [
        "14. Describe a scenario where a while loop is more suitable than a for loop.\n",
        "\n",
        "    -A while loop is more suitable than a for loop in scenarios where the number of iterations is not known in advance, and the loop should continue until a certain condition is met.\n",
        "\n",
        "Example Scenario:\n",
        "\n",
        "Waiting for user input: Imagine you want to repeatedly ask a user for a password until they enter the correct one. The number of attempts is unknown, and you need the loop to continue until a correct password is provided.\n",
        "\n",
        "Code Example:\n",
        "\n"
      ],
      "metadata": {
        "id": "3GrlLQwWY0zN"
      }
    },
    {
      "cell_type": "code",
      "source": [
        "correct_password = \"secret123\"\n",
        "user_input = \"\"\n",
        "\n",
        "while user_input != correct_password:\n",
        "    user_input = input(\"Enter the password: \")\n",
        "    if user_input != correct_password:\n",
        "        print(\"Incorrect password, try again.\")\n",
        "\n",
        "print(\"Access granted!\")"
      ],
      "metadata": {
        "colab": {
          "base_uri": "https://localhost:8080/"
        },
        "id": "yDgWUAU9YQ6H",
        "outputId": "372e556f-181f-45de-d2ee-9c62eef48943"
      },
      "execution_count": 31,
      "outputs": [
        {
          "output_type": "stream",
          "name": "stdout",
          "text": [
            "Enter the password: secret123\n",
            "Access granted!\n"
          ]
        }
      ]
    },
    {
      "cell_type": "markdown",
      "source": [
        "Explanation:\n",
        "\n",
        "The while loop is ideal here because it keeps running as long as the user input is not equal to the correct password.\n",
        "\n",
        "The number of attempts is not predetermined; the loop will stop when the user provides the correct password.\n",
        "\n",
        "This is a classic use case where the loop’s continuation is based on a condition, not a known number of iterations, making the while loop more suitable than a for loop.\n",
        "\n",
        "\n"
      ],
      "metadata": {
        "id": "tEa69Zj5Z8K7"
      }
    },
    {
      "cell_type": "markdown",
      "source": [
        "#Practical"
      ],
      "metadata": {
        "id": "yOTDRuIdaGw1"
      }
    },
    {
      "cell_type": "markdown",
      "source": [
        "1. Write a Python program to print \"Hello, World!\"\n",
        "\n"
      ],
      "metadata": {
        "id": "Cc-hYHBfaURT"
      }
    },
    {
      "cell_type": "code",
      "source": [
        "print(\"Hello, World!\")\n"
      ],
      "metadata": {
        "colab": {
          "base_uri": "https://localhost:8080/"
        },
        "id": "lTag4xvMZ2mA",
        "outputId": "7b58fec4-9fc3-4f70-cdaa-7bd145b5d91e"
      },
      "execution_count": 27,
      "outputs": [
        {
          "output_type": "stream",
          "name": "stdout",
          "text": [
            "Hello, World!\n"
          ]
        }
      ]
    },
    {
      "cell_type": "markdown",
      "source": [
        "2. Write a Python program that displays your name and age.\n"
      ],
      "metadata": {
        "id": "Asrm2_oMbPLy"
      }
    },
    {
      "cell_type": "code",
      "source": [
        "# Define your name and age\n",
        "name = \"John Doe\"\n",
        "age = 25\n",
        "\n",
        "# Display name and age\n",
        "print(\"Name:\", name)\n",
        "print(\"Age:\", age)\n"
      ],
      "metadata": {
        "colab": {
          "base_uri": "https://localhost:8080/"
        },
        "id": "XB5yRiDjatlv",
        "outputId": "cfe8b357-9318-4e7b-ab10-86bd3094fe79"
      },
      "execution_count": 26,
      "outputs": [
        {
          "output_type": "stream",
          "name": "stdout",
          "text": [
            "Name: John Doe\n",
            "Age: 25\n"
          ]
        }
      ]
    },
    {
      "cell_type": "markdown",
      "source": [
        "3. Write code to print all the pre-defined keywords in Python using the keyword library."
      ],
      "metadata": {
        "id": "G6XT_GIhbxg7"
      }
    },
    {
      "cell_type": "code",
      "source": [
        "import keyword\n",
        "\n",
        "# Print all the pre-defined keywords in Python\n",
        "print(\"Python Keywords:\", keyword.kwlist)\n"
      ],
      "metadata": {
        "colab": {
          "base_uri": "https://localhost:8080/"
        },
        "id": "-z8o4yz1bj74",
        "outputId": "576e9a95-8a13-453a-fa5d-d211aba572ea"
      },
      "execution_count": 28,
      "outputs": [
        {
          "output_type": "stream",
          "name": "stdout",
          "text": [
            "Python Keywords: ['False', 'None', 'True', 'and', 'as', 'assert', 'async', 'await', 'break', 'class', 'continue', 'def', 'del', 'elif', 'else', 'except', 'finally', 'for', 'from', 'global', 'if', 'import', 'in', 'is', 'lambda', 'nonlocal', 'not', 'or', 'pass', 'raise', 'return', 'try', 'while', 'with', 'yield']\n"
          ]
        }
      ]
    },
    {
      "cell_type": "markdown",
      "source": [
        "4. Write a program that checks if a given word is a Python keyword."
      ],
      "metadata": {
        "id": "cYTxAVtIcoiu"
      }
    },
    {
      "cell_type": "code",
      "source": [
        "import keyword\n",
        "\n",
        "# Get user input\n",
        "word = input(\"Enter a word: \")\n",
        "\n",
        "# Check if the word is a Python keyword\n",
        "if keyword.iskeyword(word):\n",
        "    print(f\"'{word}' is a Python keyword.\")\n",
        "else:\n",
        "    print(f\"'{word}' is not a Python keyword.\")\n"
      ],
      "metadata": {
        "colab": {
          "base_uri": "https://localhost:8080/"
        },
        "id": "yQa5JWU-b8F4",
        "outputId": "257e6c42-83a1-45b8-af01-793c734c26b0"
      },
      "execution_count": 30,
      "outputs": [
        {
          "output_type": "stream",
          "name": "stdout",
          "text": [
            "Enter a word: Apple\n",
            "'Apple' is not a Python keyword.\n"
          ]
        }
      ]
    },
    {
      "cell_type": "markdown",
      "source": [
        "5. Create a list and tuple in Python, and demonstrate how attempting to change an element works differently\n",
        "for each."
      ],
      "metadata": {
        "id": "uizp3ODidJMw"
      }
    },
    {
      "cell_type": "code",
      "source": [
        "# Create a list and a tuple\n",
        "my_list = [1, 2, 3, 4]\n",
        "my_tuple = (1, 2, 3, 4)\n",
        "\n",
        "# Attempt to change an element in the list (this will work)\n",
        "my_list[0] = 10\n",
        "print(\"Modified list:\", my_list)\n",
        "\n",
        "# Attempt to change an element in the tuple (this will raise an error)\n",
        "try:\n",
        "    my_tuple[0] = 10\n",
        "except TypeError as e:\n",
        "    print(\"Error when modifying tuple:\", e)\n"
      ],
      "metadata": {
        "colab": {
          "base_uri": "https://localhost:8080/"
        },
        "id": "jyhXrobYcs4I",
        "outputId": "3e1c1e66-d272-463a-c9ea-6fff90fbfff8"
      },
      "execution_count": 32,
      "outputs": [
        {
          "output_type": "stream",
          "name": "stdout",
          "text": [
            "Modified list: [10, 2, 3, 4]\n",
            "Error when modifying tuple: 'tuple' object does not support item assignment\n"
          ]
        }
      ]
    },
    {
      "cell_type": "markdown",
      "source": [
        "6. Write a function to demonstrate the behavior of mutable and immutable arguments.\n"
      ],
      "metadata": {
        "id": "IPrecthoda0I"
      }
    },
    {
      "cell_type": "code",
      "source": [
        "def modify_arguments(mutable_arg, immutable_arg):\n",
        "    # Modify the mutable argument (a list)\n",
        "    mutable_arg.append(100)\n",
        "    print(\"Modified mutable argument:\", mutable_arg)\n",
        "\n",
        "    # Try to modify the immutable argument (an integer)\n",
        "    immutable_arg += 10\n",
        "    print(\"Modified immutable argument:\", immutable_arg)\n",
        "\n",
        "# Create a mutable and an immutable argument\n",
        "mutable = [1, 2, 3]\n",
        "immutable = 10\n",
        "\n",
        "# Call the function\n",
        "modify_arguments(mutable, immutable)\n",
        "\n",
        "# Check the values outside the function\n",
        "print(\"Outside function, mutable:\", mutable)\n",
        "print(\"Outside function, immutable:\", immutable)\n"
      ],
      "metadata": {
        "colab": {
          "base_uri": "https://localhost:8080/"
        },
        "id": "TWcQMxWjdTcn",
        "outputId": "ed7bf6cc-e91e-40ee-a638-ba08501e321c"
      },
      "execution_count": 33,
      "outputs": [
        {
          "output_type": "stream",
          "name": "stdout",
          "text": [
            "Modified mutable argument: [1, 2, 3, 100]\n",
            "Modified immutable argument: 20\n",
            "Outside function, mutable: [1, 2, 3, 100]\n",
            "Outside function, immutable: 10\n"
          ]
        }
      ]
    },
    {
      "cell_type": "markdown",
      "source": [
        "7. Write a function to demonstrate the behavior of mutable and immutable arguments.\n"
      ],
      "metadata": {
        "id": "qTbbcpdSdn5S"
      }
    },
    {
      "cell_type": "code",
      "source": [
        "def modify_arguments(mutable_arg, immutable_arg):\n",
        "    # Modify the mutable argument (a list)\n",
        "    mutable_arg.append(100)\n",
        "    print(\"Inside function, modified mutable argument:\", mutable_arg)\n",
        "\n",
        "    # Modify the immutable argument (an integer)\n",
        "    immutable_arg += 10\n",
        "    print(\"Inside function, modified immutable argument:\", immutable_arg)\n",
        "\n",
        "# Create a mutable and an immutable argument\n",
        "mutable = [1, 2, 3]\n",
        "immutable = 10\n",
        "\n",
        "# Call the function\n",
        "modify_arguments(mutable, immutable)\n",
        "\n",
        "# Check the values outside the function\n",
        "print(\"Outside function, mutable argument:\", mutable)\n",
        "print(\"Outside function, immutable argument:\", immutable)\n"
      ],
      "metadata": {
        "colab": {
          "base_uri": "https://localhost:8080/"
        },
        "id": "n63yj0eVdj_n",
        "outputId": "275ded5a-8a9d-4757-e208-5e6ad862a318"
      },
      "execution_count": 34,
      "outputs": [
        {
          "output_type": "stream",
          "name": "stdout",
          "text": [
            "Inside function, modified mutable argument: [1, 2, 3, 100]\n",
            "Inside function, modified immutable argument: 20\n",
            "Outside function, mutable argument: [1, 2, 3, 100]\n",
            "Outside function, immutable argument: 10\n"
          ]
        }
      ]
    },
    {
      "cell_type": "markdown",
      "source": [
        "8. Write a program to demonstrate the use of logical operators.\n"
      ],
      "metadata": {
        "id": "OyYVhsUfd2SF"
      }
    },
    {
      "cell_type": "code",
      "source": [
        "# Define two variables\n",
        "x = 10\n",
        "y = 5\n",
        "\n",
        "# Demonstrate the use of 'and' operator\n",
        "if x > 5 and y < 10:\n",
        "    print(\"Both conditions are True using 'and'.\")\n",
        "\n",
        "# Demonstrate the use of 'or' operator\n",
        "if x > 5 or y > 10:\n",
        "    print(\"At least one condition is True using 'or'.\")\n",
        "\n",
        "# Demonstrate the use of 'not' operator\n",
        "if not (x < 5):\n",
        "    print(\"The condition 'x < 5' is False, so 'not' makes it True.\")\n"
      ],
      "metadata": {
        "colab": {
          "base_uri": "https://localhost:8080/"
        },
        "id": "-XsFpvv1dyRX",
        "outputId": "681ba401-f8af-41cc-a0f5-a82b4f25daff"
      },
      "execution_count": 35,
      "outputs": [
        {
          "output_type": "stream",
          "name": "stdout",
          "text": [
            "Both conditions are True using 'and'.\n",
            "At least one condition is True using 'or'.\n",
            "The condition 'x < 5' is False, so 'not' makes it True.\n"
          ]
        }
      ]
    },
    {
      "cell_type": "markdown",
      "source": [
        "9. Write a Python program to convert user input from string to integer, float, and boolean types.\n"
      ],
      "metadata": {
        "id": "vpdANUsoePYp"
      }
    },
    {
      "cell_type": "code",
      "source": [
        "# Get user input as a string\n",
        "user_input = input(\"Enter a value: \")\n",
        "\n",
        "# Convert the input to an integer\n",
        "try:\n",
        "    integer_value = int(user_input)\n",
        "    print(\"Integer conversion:\", integer_value)\n",
        "except ValueError:\n",
        "    print(\"Input cannot be converted to an integer.\")\n",
        "\n",
        "# Convert the input to a float\n",
        "try:\n",
        "    float_value = float(user_input)\n",
        "    print(\"Float conversion:\", float_value)\n",
        "except ValueError:\n",
        "    print(\"Input cannot be converted to a float.\")\n",
        "\n",
        "# Convert the input to a boolean\n",
        "# Convert any non-empty string to True, empty string to False\n",
        "boolean_value = bool(user_input)\n",
        "print(\"Boolean conversion:\", boolean_value)\n"
      ],
      "metadata": {
        "colab": {
          "base_uri": "https://localhost:8080/"
        },
        "id": "pBPoh1eweASf",
        "outputId": "79715ea2-d364-454e-ad25-cc3fe4ac4a1c"
      },
      "execution_count": 36,
      "outputs": [
        {
          "output_type": "stream",
          "name": "stdout",
          "text": [
            "Enter a value: 44\n",
            "Integer conversion: 44\n",
            "Float conversion: 44.0\n",
            "Boolean conversion: True\n"
          ]
        }
      ]
    },
    {
      "cell_type": "markdown",
      "source": [
        "10. Write code to demonstrate type casting with list elements.\n"
      ],
      "metadata": {
        "id": "tYq2C0XIeprz"
      }
    },
    {
      "cell_type": "code",
      "source": [
        "# Create a list with elements of different types\n",
        "my_list = [\"1\", \"2.5\", \"True\", \"3\"]\n",
        "\n",
        "# Type casting each element in the list to different types\n",
        "int_list = [int(item) if item.isdigit() else 0 for item in my_list]  # Convert to integers, default to 0 if not possible\n",
        "float_list = [float(item) if item.replace('.', '', 1).isdigit() else 0.0 for item in my_list]  # Convert to floats\n",
        "bool_list = [bool(item) for item in my_list]  # Convert to boolean (non-empty strings are True)\n",
        "\n",
        "# Display the results\n",
        "print(\"Original list:\", my_list)\n",
        "print(\"List with elements converted to integers:\", int_list)\n",
        "print(\"List with elements converted to floats:\", float_list)\n",
        "print(\"List with elements converted to boolean:\", bool_list)\n"
      ],
      "metadata": {
        "colab": {
          "base_uri": "https://localhost:8080/"
        },
        "id": "YS_ZGlMXeXPy",
        "outputId": "25d0b4f6-b5f7-4218-e5e6-8ee09abcc296"
      },
      "execution_count": 37,
      "outputs": [
        {
          "output_type": "stream",
          "name": "stdout",
          "text": [
            "Original list: ['1', '2.5', 'True', '3']\n",
            "List with elements converted to integers: [1, 0, 0, 3]\n",
            "List with elements converted to floats: [1.0, 2.5, 0.0, 3.0]\n",
            "List with elements converted to boolean: [True, True, True, True]\n"
          ]
        }
      ]
    },
    {
      "cell_type": "markdown",
      "source": [
        "11. Write a program that checks if a number is positive, negative, or zero.\n"
      ],
      "metadata": {
        "id": "5cKxbWmBe586"
      }
    },
    {
      "cell_type": "code",
      "source": [
        "# Get user input\n",
        "number = float(input(\"Enter a number: \"))\n",
        "\n",
        "# Check if the number is positive, negative, or zero\n",
        "if number > 0:\n",
        "    print(f\"{number} is positive.\")\n",
        "elif number < 0:\n",
        "    print(f\"{number} is negative.\")\n",
        "else:\n",
        "    print(f\"{number} is zero.\")\n"
      ],
      "metadata": {
        "colab": {
          "base_uri": "https://localhost:8080/"
        },
        "id": "XRbWuo9tezST",
        "outputId": "b42c8b22-f945-4dd2-e09d-17d108fc8969"
      },
      "execution_count": 38,
      "outputs": [
        {
          "output_type": "stream",
          "name": "stdout",
          "text": [
            "Enter a number: 10\n",
            "10.0 is positive.\n"
          ]
        }
      ]
    },
    {
      "cell_type": "markdown",
      "source": [
        "12.  Write a for loop to print numbers from 1 to 100.\n"
      ],
      "metadata": {
        "id": "Zz-2ja76fLOL"
      }
    },
    {
      "cell_type": "code",
      "source": [
        "# Using a for loop to print numbers from 1 to 100\n",
        "for number in range(1, 101):\n",
        "    print(number)\n"
      ],
      "metadata": {
        "colab": {
          "base_uri": "https://localhost:8080/"
        },
        "id": "_pT7K_2bfC8I",
        "outputId": "c56345dc-0502-4dca-aca2-eb07e4d4e241"
      },
      "execution_count": 39,
      "outputs": [
        {
          "output_type": "stream",
          "name": "stdout",
          "text": [
            "1\n",
            "2\n",
            "3\n",
            "4\n",
            "5\n",
            "6\n",
            "7\n",
            "8\n",
            "9\n",
            "10\n",
            "11\n",
            "12\n",
            "13\n",
            "14\n",
            "15\n",
            "16\n",
            "17\n",
            "18\n",
            "19\n",
            "20\n",
            "21\n",
            "22\n",
            "23\n",
            "24\n",
            "25\n",
            "26\n",
            "27\n",
            "28\n",
            "29\n",
            "30\n",
            "31\n",
            "32\n",
            "33\n",
            "34\n",
            "35\n",
            "36\n",
            "37\n",
            "38\n",
            "39\n",
            "40\n",
            "41\n",
            "42\n",
            "43\n",
            "44\n",
            "45\n",
            "46\n",
            "47\n",
            "48\n",
            "49\n",
            "50\n",
            "51\n",
            "52\n",
            "53\n",
            "54\n",
            "55\n",
            "56\n",
            "57\n",
            "58\n",
            "59\n",
            "60\n",
            "61\n",
            "62\n",
            "63\n",
            "64\n",
            "65\n",
            "66\n",
            "67\n",
            "68\n",
            "69\n",
            "70\n",
            "71\n",
            "72\n",
            "73\n",
            "74\n",
            "75\n",
            "76\n",
            "77\n",
            "78\n",
            "79\n",
            "80\n",
            "81\n",
            "82\n",
            "83\n",
            "84\n",
            "85\n",
            "86\n",
            "87\n",
            "88\n",
            "89\n",
            "90\n",
            "91\n",
            "92\n",
            "93\n",
            "94\n",
            "95\n",
            "96\n",
            "97\n",
            "98\n",
            "99\n",
            "100\n"
          ]
        }
      ]
    },
    {
      "cell_type": "markdown",
      "source": [
        "13. Write a Python program to find the sum of all even numbers between 1 and 500.\n"
      ],
      "metadata": {
        "id": "sIu3wN6CfjkX"
      }
    },
    {
      "cell_type": "code",
      "source": [
        "# Initialize the sum variable\n",
        "sum_even_numbers = 0\n",
        "\n",
        "# Use a for loop to iterate through numbers between 1 and 500\n",
        "for number in range(2, 501, 2):  # Start from 2 and increment by 2 to get even numbers\n",
        "    sum_even_numbers += number  # Add the even number to the sum\n",
        "\n",
        "# Print the sum\n",
        "print(\"Sum of all even numbers between 1 and 500:\", sum_even_numbers)\n"
      ],
      "metadata": {
        "colab": {
          "base_uri": "https://localhost:8080/"
        },
        "id": "aC8UZA3ofdNg",
        "outputId": "1d384031-9f4c-4a1d-8a8d-51b70704d0c9"
      },
      "execution_count": 40,
      "outputs": [
        {
          "output_type": "stream",
          "name": "stdout",
          "text": [
            "Sum of all even numbers between 1 and 500: 62750\n"
          ]
        }
      ]
    },
    {
      "cell_type": "markdown",
      "source": [
        "14. Write a program to reverse a string using a while loop.\n"
      ],
      "metadata": {
        "id": "AZG_fbhSf-vW"
      }
    },
    {
      "cell_type": "code",
      "source": [
        "# Input string from the user\n",
        "string = input(\"Enter a string: \")\n",
        "\n",
        "# Initialize an empty string to store the reversed string\n",
        "reversed_string = \"\"\n",
        "\n",
        "# Initialize a counter to start from the last character\n",
        "index = len(string) - 1\n",
        "\n",
        "# Use a while loop to reverse the string\n",
        "while index >= 0:\n",
        "    reversed_string += string[index]  # Add the current character to the reversed string\n",
        "    index -= 1  # Move to the previous character\n",
        "\n",
        "# Print the reversed string\n",
        "print(\"Reversed string:\", reversed_string)\n"
      ],
      "metadata": {
        "colab": {
          "base_uri": "https://localhost:8080/"
        },
        "id": "VTtP1ol9f0rA",
        "outputId": "187a0a59-88c8-47ea-ba3d-6ecaf0444b58"
      },
      "execution_count": 41,
      "outputs": [
        {
          "output_type": "stream",
          "name": "stdout",
          "text": [
            "Enter a string: World\n",
            "Reversed string: dlroW\n"
          ]
        }
      ]
    },
    {
      "cell_type": "markdown",
      "source": [
        "15. Write a Python program to calculate the factorial of a number provided by the user using a while loop.\n"
      ],
      "metadata": {
        "id": "s2WxBbLMghcp"
      }
    },
    {
      "cell_type": "code",
      "source": [
        "# Get the number from the user\n",
        "number = int(input(\"Enter a number: \"))\n",
        "\n",
        "# Initialize factorial to 1\n",
        "factorial = 1\n",
        "\n",
        "# Check if the number is negative, factorial is not defined for negative numbers\n",
        "if number < 0:\n",
        "    print(\"Factorial is not defined for negative numbers.\")\n",
        "else:\n",
        "    # Use a while loop to calculate the factorial\n",
        "    while number > 0:\n",
        "        factorial *= number  # Multiply factorial by the current number\n",
        "        number -= 1  # Decrement the number by 1\n",
        "\n",
        "    # Print the factorial\n",
        "    print(\"Factorial is:\", factorial)\n"
      ],
      "metadata": {
        "colab": {
          "base_uri": "https://localhost:8080/"
        },
        "id": "480XVrs1gLyo",
        "outputId": "706c96db-8237-4347-b9ed-2d717467e135"
      },
      "execution_count": 42,
      "outputs": [
        {
          "output_type": "stream",
          "name": "stdout",
          "text": [
            "Enter a number: 5\n",
            "Factorial is: 120\n"
          ]
        }
      ]
    },
    {
      "cell_type": "code",
      "source": [],
      "metadata": {
        "id": "is6d93dXgoQi"
      },
      "execution_count": null,
      "outputs": []
    }
  ]
}